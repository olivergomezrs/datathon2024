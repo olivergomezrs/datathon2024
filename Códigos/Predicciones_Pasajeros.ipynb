{
  "nbformat": 4,
  "nbformat_minor": 0,
  "metadata": {
    "colab": {
      "provenance": [],
      "gpuType": "T4"
    },
    "kernelspec": {
      "name": "python3",
      "display_name": "Python 3"
    },
    "language_info": {
      "name": "python"
    },
    "accelerator": "GPU"
  },
  "cells": [
    {
      "cell_type": "markdown",
      "source": [
        "# Carga"
      ],
      "metadata": {
        "id": "4NNgzi3EHH72"
      }
    },
    {
      "cell_type": "code",
      "execution_count": 11,
      "metadata": {
        "id": "1t_31wVVqGj_"
      },
      "outputs": [],
      "source": [
        "import pandas as pd\n",
        "import numpy as np\n",
        "import keras\n",
        "import tensorflow as tf\n",
        "import matplotlib.pyplot as plt\n",
        "from sklearn.model_selection import train_test_split\n",
        "from sklearn.preprocessing import StandardScaler, OneHotEncoder\n",
        "from sklearn.compose import ColumnTransformer\n",
        "from sklearn.metrics import mean_squared_error, mean_absolute_error, r2_score\n",
        "from tensorflow.keras import layers, callbacks"
      ]
    },
    {
      "cell_type": "code",
      "source": [
        "# Vuelos\n",
        "fli = pd.read_csv('/content/Filghts TEC_Valid.csv')"
      ],
      "metadata": {
        "id": "PHwCs0a4qk5R"
      },
      "execution_count": 59,
      "outputs": []
    },
    {
      "cell_type": "markdown",
      "source": [
        "# DB - Limpieza de vuelos"
      ],
      "metadata": {
        "id": "hwOmYA00-kkQ"
      }
    },
    {
      "cell_type": "code",
      "source": [
        "# Convertir a fecha las salidas y llegadas\n",
        "fli['STD'] = pd.to_datetime(fli['STD'])\n",
        "fli['STA'] = pd.to_datetime(fli['STA'])"
      ],
      "metadata": {
        "id": "uL0hIAEOAQ0m"
      },
      "execution_count": 60,
      "outputs": []
    },
    {
      "cell_type": "markdown",
      "source": [
        "## Predict - 2024\n",
        "Base de datos del 2024 (año a predecir)"
      ],
      "metadata": {
        "id": "kH7BSAxag6yh"
      }
    },
    {
      "cell_type": "code",
      "source": [
        "# Filtro de solo el 2024\n",
        "fli_pred = fli[(fli['STD'].dt.year == 2024)]\n",
        "# Columnas no significantes al modelo\n",
        "fli.drop(['Flight_ID', 'Aeronave','Destination_Type', 'Origin_Type','Bookings'], axis = 1, inplace = True)"
      ],
      "metadata": {
        "id": "CaGDMadqhAz5"
      },
      "execution_count": null,
      "outputs": []
    },
    {
      "cell_type": "code",
      "source": [
        "# ¿El vuelo es en fin de semana? 1. Si, 0. No\n",
        "fli_pred['Weekend'] = np.where(fli_pred['STD'].dt.weekday >= 4, 1,0)\n",
        "# Mes (en número) del vuelo\n",
        "fli_pred['Month'] = fli_pred['STD'].dt.month.astype(str)\n",
        "# Hora redondeada del vuelo\n",
        "fli_pred['Hour'] = fli_pred['STD'].dt.hour.astype(str)\n",
        "# Duración (float) del vuelo en horas\n",
        "fli_pred['Duration'] = np.round((fli_pred['STA'] - fli_pred['STD']).dt.total_seconds()/3600,2)\n",
        "# Columnas no útiles al modelo\n",
        "fli_pred.drop(['STD','STA'], axis = 1, inplace = True)\n",
        "# Reordenamiento de columnas\n",
        "fli_pred = fli_pred[['DepartureStation', 'ArrivalStation', 'Capacity', 'Weekend', 'Month','Hour', 'Duration']]"
      ],
      "metadata": {
        "id": "bUvLHwQ2hnXs"
      },
      "execution_count": null,
      "outputs": []
    },
    {
      "cell_type": "code",
      "source": [
        "# Base de datos de variables independientes para predecir 2024\n",
        "fli_pred.to_csv('fli_pred2024.csv', index = False)"
      ],
      "metadata": {
        "id": "2Ff_Z0fiiDHX"
      },
      "execution_count": null,
      "outputs": []
    },
    {
      "cell_type": "markdown",
      "source": [
        "## Train and test 2023\n",
        "Base de datos del 2023, usada para el entrenamiento y prueba de los modelos."
      ],
      "metadata": {
        "id": "Y2VYnk-Pg8ob"
      }
    },
    {
      "cell_type": "code",
      "source": [
        "# Eliminar los registros que sean del 2024 y Aeronaves nulas\n",
        "fli = fli[(fli['STD'].dt.year != 2024) & ~(fli['Aeronave'].isnull())]\n",
        "# Manejo de sobreventa\n",
        "fli.loc[fli['Passengers'] > fli['Capacity'], 'Passengers'] = fli['Capacity']\n",
        "# Columnas no útiles al modelo\n",
        "fli.drop(['Flight_ID', 'Aeronave','Destination_Type', 'Origin_Type','Bookings'], axis = 1, inplace = True)"
      ],
      "metadata": {
        "colab": {
          "base_uri": "https://localhost:8080/"
        },
        "id": "1y1KhXuUqTa7",
        "outputId": "893c6947-1157-4b02-8836-91a68a454864"
      },
      "execution_count": 61,
      "outputs": [
        {
          "output_type": "stream",
          "name": "stderr",
          "text": [
            "<ipython-input-61-c0f06ac6c8d4>:6: SettingWithCopyWarning: \n",
            "A value is trying to be set on a copy of a slice from a DataFrame\n",
            "\n",
            "See the caveats in the documentation: https://pandas.pydata.org/pandas-docs/stable/user_guide/indexing.html#returning-a-view-versus-a-copy\n",
            "  fli.drop(['Flight_ID', 'Aeronave','Destination_Type', 'Origin_Type','Bookings'], axis = 1, inplace = True)\n"
          ]
        }
      ]
    },
    {
      "cell_type": "code",
      "source": [
        "# ¿El vuelo es en fin de semana? 1. Si, 0. No\n",
        "fli['Weekend'] = np.where(fli['STD'].dt.weekday >= 4, 1,0)\n",
        "# Mes (en número) del vuelo\n",
        "fli['Month'] = fli['STD'].dt.month.astype(str)\n",
        "# Hora redondeada del vuelo\n",
        "fli['Hour'] = fli['STD'].dt.hour.astype(str)\n",
        "# Duración (float) del vuelo en horas\n",
        "fli['Duration'] = np.round((fli['STA'] - fli['STD']).dt.total_seconds()/3600,2)\n",
        "# Columnas no útiles al modelo\n",
        "fli.drop(['STD','STA'], axis = 1, inplace = True)\n",
        "# Reordenamiento de columnas\n",
        "fli = fli[['DepartureStation', 'ArrivalStation', 'Capacity', 'Weekend', 'Month','Hour', 'Duration','Passengers']]\n",
        "# Manejo de outliers - Vuelos mayores a 20hrs\n",
        "fli = fli[fli.Duration < 20]"
      ],
      "metadata": {
        "id": "paBfGjORwIwt"
      },
      "execution_count": 62,
      "outputs": []
    },
    {
      "cell_type": "code",
      "source": [
        "# Base de datos\n",
        "fli.to_csv('Flights_Limpia.csv', index = False)"
      ],
      "metadata": {
        "id": "fx30xWwFMR0P"
      },
      "execution_count": null,
      "outputs": []
    },
    {
      "cell_type": "markdown",
      "source": [
        "### Separación por capacidad de pasajeros"
      ],
      "metadata": {
        "id": "K9wV3PsCjSXf"
      }
    },
    {
      "cell_type": "markdown",
      "source": [
        "Se observó una clara distinción en el histograma de pasajeros por capacidad de pasajeros (se encuentra en el documento de Análisis Exploratorio adjuntado), donde se revela una distinción (punto máximo) entre los aviones con una capacidad hasta 186 pasajeros y el resto. Por lo que se decidió realizar el modelo de acuerdo a los dos comportamientos encontrados."
      ],
      "metadata": {
        "id": "WYJMMZpOLUe8"
      }
    },
    {
      "cell_type": "code",
      "source": [
        "# Vuelos de aviones hasta con una capacidad de 186\n",
        "fli_cap1 = fli[fli['Capacity'] <= 186]"
      ],
      "metadata": {
        "id": "dSNuvsiUjje4"
      },
      "execution_count": 106,
      "outputs": []
    },
    {
      "cell_type": "code",
      "source": [
        "# Vuelos de aviones con una capacidad mayor a 186\n",
        "fli_cap2 = fli[~(fli['Capacity'] <= 186)]"
      ],
      "metadata": {
        "id": "n0m6gnWKjubs"
      },
      "execution_count": 86,
      "outputs": []
    },
    {
      "cell_type": "markdown",
      "source": [
        "### Manejo outliers"
      ],
      "metadata": {
        "id": "-QdjuCtyj7bn"
      }
    },
    {
      "cell_type": "markdown",
      "source": [
        "#### Capacidad 1"
      ],
      "metadata": {
        "id": "jGOoYZMsj94c"
      }
    },
    {
      "cell_type": "markdown",
      "source": [
        "Se calcula el número de pasajeros que están a 3 desviaciones estándar del cuartil del 50%, esto da un valor de a partir de 94 pasajeros. Con esto se representan el 99% de los datos."
      ],
      "metadata": {
        "id": "XKrPhTreXjZ9"
      }
    },
    {
      "cell_type": "code",
      "source": [
        "fli_cap1.describe()['Passengers']"
      ],
      "metadata": {
        "colab": {
          "base_uri": "https://localhost:8080/"
        },
        "id": "EHc78jncUAFP",
        "outputId": "878ddb4a-ed23-4c21-8e11-857e86d848f8"
      },
      "execution_count": null,
      "outputs": [
        {
          "output_type": "execute_result",
          "data": {
            "text/plain": [
              "count    63753.000000\n",
              "mean       163.692109\n",
              "std         26.482421\n",
              "min          1.000000\n",
              "25%        151.000000\n",
              "50%        174.000000\n",
              "75%        185.000000\n",
              "max        186.000000\n",
              "Name: Passengers, dtype: float64"
            ]
          },
          "metadata": {},
          "execution_count": 12
        }
      ]
    },
    {
      "cell_type": "code",
      "source": [
        "# Outliers a partir del:\n",
        "174-(26.482421*3)"
      ],
      "metadata": {
        "colab": {
          "base_uri": "https://localhost:8080/"
        },
        "id": "SAmWp9-dWEHC",
        "outputId": "747f5c3c-5f03-4983-8d34-25a3cce7911b"
      },
      "execution_count": null,
      "outputs": [
        {
          "output_type": "execute_result",
          "data": {
            "text/plain": [
              "94.55273700000001"
            ]
          },
          "metadata": {},
          "execution_count": 11
        }
      ]
    },
    {
      "cell_type": "code",
      "source": [
        "fli_cap1 = fli_cap1[fli_cap1['Passengers'] >= 94]"
      ],
      "metadata": {
        "id": "dEC5hnVTX9yh"
      },
      "execution_count": 107,
      "outputs": []
    },
    {
      "cell_type": "code",
      "source": [
        "# Base de datos\n",
        "fli_cap1.to_csv('Flights_Cap1.csv', index = False)"
      ],
      "metadata": {
        "id": "Q3qTnZ4OMhuv"
      },
      "execution_count": null,
      "outputs": []
    },
    {
      "cell_type": "markdown",
      "source": [
        "#### Capacidad 2"
      ],
      "metadata": {
        "id": "iBjKCNtNkx2t"
      }
    },
    {
      "cell_type": "markdown",
      "source": [
        "Se calcula el número de pasajeros que están a 3 desviaciones estándar del cuartil del 50%, esto da un valor de a partir de 108 pasajeros. Con esto se representan el 99% de los datos."
      ],
      "metadata": {
        "id": "UEt8GWxVkx3D"
      }
    },
    {
      "cell_type": "code",
      "source": [
        "fli_cap2.describe()['Passengers']"
      ],
      "metadata": {
        "colab": {
          "base_uri": "https://localhost:8080/"
        },
        "outputId": "a6d7b92f-6835-495c-d0e5-227dee84d188",
        "id": "bQUFhZaekx3E"
      },
      "execution_count": 87,
      "outputs": [
        {
          "output_type": "execute_result",
          "data": {
            "text/plain": [
              "count    57971.000000\n",
              "mean       202.540115\n",
              "std         34.885208\n",
              "min          1.000000\n",
              "25%        183.000000\n",
              "50%        213.000000\n",
              "75%        229.000000\n",
              "max        240.000000\n",
              "Name: Passengers, dtype: float64"
            ]
          },
          "metadata": {},
          "execution_count": 87
        }
      ]
    },
    {
      "cell_type": "code",
      "source": [
        "# Outliers a partir del:\n",
        "213-(34.885208*3)"
      ],
      "metadata": {
        "colab": {
          "base_uri": "https://localhost:8080/"
        },
        "outputId": "84f37e01-621c-4a65-8adb-643dca086b98",
        "id": "DChInJCukx3E"
      },
      "execution_count": 66,
      "outputs": [
        {
          "output_type": "execute_result",
          "data": {
            "text/plain": [
              "108.34437600000001"
            ]
          },
          "metadata": {},
          "execution_count": 66
        }
      ]
    },
    {
      "cell_type": "code",
      "source": [
        "fli_cap2 = fli_cap2[fli_cap2['Passengers'] >= 108]"
      ],
      "metadata": {
        "id": "qX5_6l1tkx3F"
      },
      "execution_count": 88,
      "outputs": []
    },
    {
      "cell_type": "code",
      "source": [
        "# Base de datos\n",
        "fli_cap2.to_csv('Flights_Cap2.csv', index = False)"
      ],
      "metadata": {
        "id": "AYW8z9J8_Mof"
      },
      "execution_count": 98,
      "outputs": []
    },
    {
      "cell_type": "markdown",
      "source": [
        "# Modelo Capacidad 1"
      ],
      "metadata": {
        "id": "YH9OOWCJHzUI"
      }
    },
    {
      "cell_type": "markdown",
      "source": [
        "## RNN"
      ],
      "metadata": {
        "id": "XDQ4SX4WRNdd"
      }
    },
    {
      "cell_type": "markdown",
      "source": [
        "### Funciones y tratamiento"
      ],
      "metadata": {
        "id": "X-CQX3eySGcd"
      }
    },
    {
      "cell_type": "code",
      "source": [
        "# Función para evaluar los modelos\n",
        "def evaluate(model, X_test_preprocessed, y_test, y_pred, history):\n",
        "  # Errores y métricas\n",
        "  mse = mean_squared_error(y_test, y_pred)\n",
        "  mae = mean_absolute_error(y_test, y_pred)\n",
        "  r2 = r2_score(y_test, y_pred)\n",
        "\n",
        "  # Despliegue\n",
        "  print(\"Mean Squared Error:\", mse)\n",
        "  print(\"Mean Absolute Error:\", mae)\n",
        "  print(\"R^2 Score:\", r2)\n",
        "\n",
        "  # Visualizar loss durante training y validation\n",
        "  loss = history.history['loss']\n",
        "  val_loss = history.history['val_loss']\n",
        "\n",
        "  plt.plot(loss, label='Training Loss')\n",
        "  plt.plot(val_loss, label='Validation Loss')\n",
        "  plt.xlabel('Epoch')\n",
        "  plt.ylabel('Loss')\n",
        "  plt.title('Training and Validation Loss Over Epochs')\n",
        "  plt.legend()\n",
        "  plt.show()"
      ],
      "metadata": {
        "id": "b1BBGwGCRuqP"
      },
      "execution_count": 130,
      "outputs": []
    },
    {
      "cell_type": "code",
      "source": [
        "# Dividir en variables dependientes y dependiente\n",
        "X = fli_cap1.drop(columns=['Passengers'])\n",
        "y = fli_cap1['Passengers']\n",
        "\n",
        "# Dividir los datos en training and test sets\n",
        "X_train, X_test, y_train, y_test = train_test_split(X, y, test_size=0.2, random_state=42)\n",
        "\n",
        "# Variables numéricas - Escalamiento\n",
        "numeric_features = X_train.select_dtypes(include=['float64', 'int64']).columns\n",
        "numeric_preprocessor = StandardScaler()\n",
        "X_train_numeric = numeric_preprocessor.fit_transform(X_train[numeric_features])\n",
        "X_test_numeric = numeric_preprocessor.transform(X_test[numeric_features])\n",
        "\n",
        "# Variables categóricas - OneHotEncoder\n",
        "categorical_features = X_train.select_dtypes(include=['object']).columns\n",
        "categorical_preprocessor = OneHotEncoder()\n",
        "X_train_categorical = categorical_preprocessor.fit_transform(X_train[categorical_features])\n",
        "X_test_categorical = categorical_preprocessor.transform(X_test[categorical_features])\n",
        "\n",
        "# Juntar las variables numéricas y categóricas\n",
        "X_train_preprocessed = np.hstack((X_train_numeric, X_train_categorical.toarray()))\n",
        "X_test_preprocessed = np.hstack((X_test_numeric, X_test_categorical.toarray()))"
      ],
      "metadata": {
        "id": "fPqhbIGXRONp"
      },
      "execution_count": 13,
      "outputs": []
    },
    {
      "cell_type": "markdown",
      "source": [
        "### Modelo 1"
      ],
      "metadata": {
        "id": "UZlEVkapSPXn"
      }
    },
    {
      "cell_type": "markdown",
      "source": [
        "Modelo 1 de RN para la predicción. Se obtuvieron los siguientes errores y métricas. El menos adecuado es R^2 ya que solo se ajusta al 22% de los datos. Aparte se observa un overfitting a partir de la epoca 13 aproximadamente."
      ],
      "metadata": {
        "id": "6SHDqDFGSjLr"
      }
    },
    {
      "cell_type": "code",
      "source": [
        "# Construir RN\n",
        "model = tf.keras.Sequential([\n",
        "    # capas\n",
        "    layers.Dense(128, activation='relu', input_shape=(X_train_preprocessed.shape[1],)),\n",
        "    layers.Dropout(0.2),\n",
        "    layers.Dense(64, activation='relu'),\n",
        "    layers.Dropout(0.2),\n",
        "    layers.Dense(32, activation='relu'),\n",
        "    layers.Dense(1)  # Capa de salida para la predicción\n",
        "])\n",
        "\n",
        "# Compilar modelo\n",
        "model.compile(optimizer='adam', loss='mean_squared_error')\n",
        "\n",
        "# Definir callbacks para parar el modelo\n",
        "early_stopping = callbacks.EarlyStopping(monitor='val_loss', patience=10, restore_best_weights=True)\n",
        "\n",
        "# Entrenamiento\n",
        "history = model.fit(X_train_preprocessed, y_train, epochs=100, batch_size=32, validation_split=0.2, callbacks=[early_stopping])\n",
        "\n",
        "# Predicción\n",
        "y_pred = model.predict(X_test_preprocessed)\n",
        "\n",
        "# Evaluación\n",
        "evaluate(model, X_test_preprocessed, y_test, y_pred, history)"
      ],
      "metadata": {
        "colab": {
          "base_uri": "https://localhost:8080/",
          "height": 1000
        },
        "id": "miNSwLzA4sXL",
        "outputId": "27337c32-6577-4144-9bc6-05e14105a852"
      },
      "execution_count": 14,
      "outputs": [
        {
          "output_type": "stream",
          "name": "stdout",
          "text": [
            "Epoch 1/100\n",
            "1245/1245 [==============================] - 5s 3ms/step - loss: 2099.3267 - val_loss: 415.6125\n",
            "Epoch 2/100\n",
            "1245/1245 [==============================] - 3s 3ms/step - loss: 615.3976 - val_loss: 414.9177\n",
            "Epoch 3/100\n",
            "1245/1245 [==============================] - 3s 2ms/step - loss: 591.6732 - val_loss: 405.9850\n",
            "Epoch 4/100\n",
            "1245/1245 [==============================] - 4s 3ms/step - loss: 568.6347 - val_loss: 410.4605\n",
            "Epoch 5/100\n",
            "1245/1245 [==============================] - 3s 3ms/step - loss: 558.3438 - val_loss: 392.6878\n",
            "Epoch 6/100\n",
            "1245/1245 [==============================] - 3s 2ms/step - loss: 550.5557 - val_loss: 415.9115\n",
            "Epoch 7/100\n",
            "1245/1245 [==============================] - 3s 3ms/step - loss: 539.8611 - val_loss: 440.1619\n",
            "Epoch 8/100\n",
            "1245/1245 [==============================] - 4s 3ms/step - loss: 529.0881 - val_loss: 387.3076\n",
            "Epoch 9/100\n",
            "1245/1245 [==============================] - 3s 3ms/step - loss: 511.7483 - val_loss: 369.0894\n",
            "Epoch 10/100\n",
            "1245/1245 [==============================] - 3s 3ms/step - loss: 500.2952 - val_loss: 368.3946\n",
            "Epoch 11/100\n",
            "1245/1245 [==============================] - 5s 4ms/step - loss: 491.5899 - val_loss: 369.4478\n",
            "Epoch 12/100\n",
            "1245/1245 [==============================] - 3s 3ms/step - loss: 475.1141 - val_loss: 400.2424\n",
            "Epoch 13/100\n",
            "1245/1245 [==============================] - 3s 3ms/step - loss: 455.1611 - val_loss: 484.4063\n",
            "Epoch 14/100\n",
            "1245/1245 [==============================] - 3s 2ms/step - loss: 440.3516 - val_loss: 389.4858\n",
            "Epoch 15/100\n",
            "1245/1245 [==============================] - 7s 6ms/step - loss: 430.6363 - val_loss: 545.5109\n",
            "Epoch 16/100\n",
            "1245/1245 [==============================] - 4s 3ms/step - loss: 415.3021 - val_loss: 560.1321\n",
            "Epoch 17/100\n",
            "1245/1245 [==============================] - 3s 3ms/step - loss: 406.8719 - val_loss: 686.5821\n",
            "Epoch 18/100\n",
            "1245/1245 [==============================] - 4s 3ms/step - loss: 405.4504 - val_loss: 700.0281\n",
            "Epoch 19/100\n",
            "1245/1245 [==============================] - 4s 3ms/step - loss: 397.7519 - val_loss: 728.3187\n",
            "Epoch 20/100\n",
            "1245/1245 [==============================] - 10s 8ms/step - loss: 395.1308 - val_loss: 934.0408\n",
            "389/389 [==============================] - 1s 2ms/step\n",
            "389/389 [==============================] - 2s 4ms/step\n",
            "Mean Squared Error: 378.1953660092439\n",
            "Mean Absolute Error: 14.956862031206445\n",
            "R^2 Score: 0.22963257572040296\n"
          ]
        },
        {
          "output_type": "display_data",
          "data": {
            "text/plain": [
              "<Figure size 640x480 with 1 Axes>"
            ],
            "image/png": "[encoded data removed]"
          },
          "metadata": {}
        }
      ]
    },
    {
      "cell_type": "markdown",
      "source": [
        "### Modelo 2"
      ],
      "metadata": {
        "id": "yvSmC3O-Tv2v"
      }
    },
    {
      "cell_type": "markdown",
      "source": [
        "Debido al overfitting presentado en el modelo 1, se decidió disminuir el número de epochs, permitiendo evitar el overfitting. Con esto, se obtuvo que el modelo emperó y siguió haciendo overfitting, así que se decidió mover con otra estructura."
      ],
      "metadata": {
        "id": "WhThYRP0TzNZ"
      }
    },
    {
      "cell_type": "code",
      "source": [
        "# Construir RN\n",
        "model = tf.keras.Sequential([\n",
        "    # capas\n",
        "    layers.Dense(128, activation='relu', input_shape=(X_train_preprocessed.shape[1],)),\n",
        "    layers.Dropout(0.2),\n",
        "    layers.Dense(64, activation='relu'),\n",
        "    layers.Dropout(0.2),\n",
        "    layers.Dense(32, activation='relu'),\n",
        "    layers.Dense(1)  # Capa de salida para la predicción\n",
        "])\n",
        "\n",
        "# Compilar modelo\n",
        "model.compile(optimizer='adam', loss='mean_squared_error')\n",
        "\n",
        "# Definir callbacks para parar el modelo\n",
        "early_stopping = callbacks.EarlyStopping(monitor='val_loss', patience=10, restore_best_weights=True)\n",
        "\n",
        "# Entrenamiento\n",
        "history = model.fit(X_train_preprocessed, y_train, epochs=13, batch_size=32, validation_split=0.2, callbacks=[early_stopping])\n",
        "\n",
        "# Predicción\n",
        "y_pred = model.predict(X_test_preprocessed)\n",
        "\n",
        "# Evaluación\n",
        "evaluate(model, X_test_preprocessed, y_test, y_pred, history)"
      ],
      "metadata": {
        "colab": {
          "base_uri": "https://localhost:8080/",
          "height": 1000
        },
        "id": "7YAmR8CwTw1C",
        "outputId": "637ca49d-4b37-49fe-855c-4a7d794f1099"
      },
      "execution_count": 174,
      "outputs": [
        {
          "output_type": "stream",
          "name": "stdout",
          "text": [
            "Epoch 1/13\n",
            "1245/1245 [==============================] - 5s 3ms/step - loss: 2076.3687 - val_loss: 412.6308\n",
            "Epoch 2/13\n",
            "1245/1245 [==============================] - 4s 3ms/step - loss: 622.4291 - val_loss: 404.0667\n",
            "Epoch 3/13\n",
            "1245/1245 [==============================] - 6s 5ms/step - loss: 596.7797 - val_loss: 392.1256\n",
            "Epoch 4/13\n",
            "1245/1245 [==============================] - 5s 4ms/step - loss: 588.2684 - val_loss: 428.8510\n",
            "Epoch 5/13\n",
            "1245/1245 [==============================] - 7s 6ms/step - loss: 573.5582 - val_loss: 419.4714\n",
            "Epoch 6/13\n",
            "1245/1245 [==============================] - 5s 4ms/step - loss: 556.1967 - val_loss: 406.6468\n",
            "Epoch 7/13\n",
            "1245/1245 [==============================] - 3s 3ms/step - loss: 542.6074 - val_loss: 375.1956\n",
            "Epoch 8/13\n",
            "1245/1245 [==============================] - 4s 3ms/step - loss: 530.1087 - val_loss: 383.4452\n",
            "Epoch 9/13\n",
            "1245/1245 [==============================] - 7s 5ms/step - loss: 521.4133 - val_loss: 422.7234\n",
            "Epoch 10/13\n",
            "1245/1245 [==============================] - 5s 4ms/step - loss: 498.8065 - val_loss: 376.0894\n",
            "Epoch 11/13\n",
            "1245/1245 [==============================] - 9s 7ms/step - loss: 475.4888 - val_loss: 405.3059\n",
            "Epoch 12/13\n",
            "1245/1245 [==============================] - 5s 4ms/step - loss: 450.5029 - val_loss: 512.7201\n",
            "Epoch 13/13\n",
            "1245/1245 [==============================] - 5s 4ms/step - loss: 435.1619 - val_loss: 622.5166\n",
            "389/389 [==============================] - 1s 2ms/step\n",
            "389/389 [==============================] - 2s 4ms/step\n",
            "Mean Squared Error: 619.8829334903609\n",
            "Mean Absolute Error: 22.096290068471596\n",
            "R^2 Score: -0.2626744316485834\n"
          ]
        },
        {
          "output_type": "display_data",
          "data": {
            "text/plain": [
              "<Figure size 640x480 with 1 Axes>"
            ],
            "image/png": "[encoded data removed]"
          },
          "metadata": {}
        }
      ]
    },
    {
      "cell_type": "markdown",
      "source": [
        "### Modelo 3 - Final\n",
        "Modelo 2 de RN para la predicción. Se cambió el valor de dropout y learning_rate.\n",
        "\n",
        "Se obtuvieron errores de MSE y MAE similares al anterior, con la diferencia que se obtuvo un mejor R^2 que se ajusta al 35% de los datos. Por lo que se decidió trabajar con este"
      ],
      "metadata": {
        "id": "-vMzUHvBSZGw"
      }
    },
    {
      "cell_type": "code",
      "source": [
        "# Arqui del modelo 2 de RN\n",
        "model = tf.keras.Sequential([\n",
        "    layers.Dense(128, activation='relu', input_shape=(X_train_preprocessed.shape[1],)),\n",
        "    layers.Dropout(0.3),\n",
        "    layers.Dense(64, activation='relu'),\n",
        "    layers.Dropout(0.3),\n",
        "    layers.Dense(32, activation='relu'),\n",
        "    layers.Dense(1)  # Capa de salida para la predicción\n",
        "])\n",
        "\n",
        "# Compilar modelo con regularización L2 y tasa de aprendizaje adaptativa\n",
        "model.compile(optimizer=tf.keras.optimizers.Adam(learning_rate=0.001),\n",
        "              loss='mean_squared_error',\n",
        "              metrics=['mean_absolute_error'])\n",
        "\n",
        "# Definir callbacks\n",
        "early_stopping = callbacks.EarlyStopping(monitor='val_loss', patience=10, restore_best_weights=True)\n",
        "\n",
        "# Entrenamiento\n",
        "history = model.fit(X_train_preprocessed, y_train, epochs=100, batch_size=32,\n",
        "                    validation_split=0.2, callbacks=[early_stopping])\n",
        "\n",
        "# Predicción\n",
        "y_pred = model.predict(X_test_preprocessed)\n",
        "\n",
        "# Evaluación\n",
        "evaluate(model, X_test_preprocessed, y_test, y_pred, history)"
      ],
      "metadata": {
        "colab": {
          "base_uri": "https://localhost:8080/",
          "height": 3669
        },
        "id": "9TuY5Q2m7hAe",
        "outputId": "4a1b0f4a-ea0e-4df6-e8a1-2519474aa5e9"
      },
      "execution_count": null,
      "outputs": [
        {
          "output_type": "stream",
          "name": "stdout",
          "text": [
            "Epoch 1/100\n",
            "1245/1245 [==============================] - 12s 8ms/step - loss: 2252.8311 - mean_absolute_error: 31.4570 - val_loss: 408.5018 - val_mean_absolute_error: 15.9479\n",
            "Epoch 2/100\n",
            "1245/1245 [==============================] - 4s 3ms/step - loss: 745.4869 - mean_absolute_error: 21.8524 - val_loss: 404.1411 - val_mean_absolute_error: 16.1907\n",
            "Epoch 3/100\n",
            "1245/1245 [==============================] - 4s 3ms/step - loss: 716.3600 - mean_absolute_error: 21.4116 - val_loss: 405.4598 - val_mean_absolute_error: 16.4176\n",
            "Epoch 4/100\n",
            "1245/1245 [==============================] - 4s 4ms/step - loss: 696.2352 - mean_absolute_error: 21.1202 - val_loss: 411.6821 - val_mean_absolute_error: 15.0914\n",
            "Epoch 5/100\n",
            "1245/1245 [==============================] - 4s 3ms/step - loss: 676.1506 - mean_absolute_error: 20.7612 - val_loss: 396.6584 - val_mean_absolute_error: 15.0604\n",
            "Epoch 6/100\n",
            "1245/1245 [==============================] - 4s 3ms/step - loss: 650.6574 - mean_absolute_error: 20.3861 - val_loss: 382.5729 - val_mean_absolute_error: 15.1786\n",
            "Epoch 7/100\n",
            "1245/1245 [==============================] - 4s 3ms/step - loss: 619.5219 - mean_absolute_error: 19.8616 - val_loss: 380.6305 - val_mean_absolute_error: 14.9703\n",
            "Epoch 8/100\n",
            "1245/1245 [==============================] - 5s 4ms/step - loss: 603.1312 - mean_absolute_error: 19.6031 - val_loss: 389.7723 - val_mean_absolute_error: 14.5507\n",
            "Epoch 9/100\n",
            "1245/1245 [==============================] - 4s 3ms/step - loss: 572.3426 - mean_absolute_error: 19.1190 - val_loss: 383.9371 - val_mean_absolute_error: 16.0345\n",
            "Epoch 10/100\n",
            "1245/1245 [==============================] - 4s 3ms/step - loss: 554.6926 - mean_absolute_error: 18.7561 - val_loss: 376.7353 - val_mean_absolute_error: 14.6639\n",
            "Epoch 11/100\n",
            "1245/1245 [==============================] - 5s 4ms/step - loss: 532.4427 - mean_absolute_error: 18.3887 - val_loss: 383.8198 - val_mean_absolute_error: 16.0066\n",
            "Epoch 12/100\n",
            "1245/1245 [==============================] - 4s 3ms/step - loss: 513.7714 - mean_absolute_error: 18.0314 - val_loss: 368.7636 - val_mean_absolute_error: 14.8224\n",
            "Epoch 13/100\n",
            "1245/1245 [==============================] - 4s 3ms/step - loss: 502.8820 - mean_absolute_error: 17.8099 - val_loss: 368.6774 - val_mean_absolute_error: 14.7942\n",
            "Epoch 14/100\n",
            "1245/1245 [==============================] - 5s 4ms/step - loss: 484.2249 - mean_absolute_error: 17.4642 - val_loss: 368.9105 - val_mean_absolute_error: 15.3950\n",
            "Epoch 15/100\n",
            "1245/1245 [==============================] - 4s 3ms/step - loss: 472.9777 - mean_absolute_error: 17.2442 - val_loss: 362.9406 - val_mean_absolute_error: 14.9729\n",
            "Epoch 16/100\n",
            "1245/1245 [==============================] - 4s 3ms/step - loss: 460.6360 - mean_absolute_error: 17.0206 - val_loss: 356.4847 - val_mean_absolute_error: 14.6710\n",
            "Epoch 17/100\n",
            "1245/1245 [==============================] - 5s 4ms/step - loss: 442.2563 - mean_absolute_error: 16.6379 - val_loss: 358.0025 - val_mean_absolute_error: 15.0473\n",
            "Epoch 18/100\n",
            "1245/1245 [==============================] - 4s 3ms/step - loss: 427.5519 - mean_absolute_error: 16.3262 - val_loss: 351.7722 - val_mean_absolute_error: 14.4687\n",
            "Epoch 19/100\n",
            "1245/1245 [==============================] - 4s 3ms/step - loss: 413.2224 - mean_absolute_error: 16.0300 - val_loss: 347.8064 - val_mean_absolute_error: 14.0017\n",
            "Epoch 20/100\n",
            "1245/1245 [==============================] - 5s 4ms/step - loss: 404.7296 - mean_absolute_error: 15.8070 - val_loss: 346.2271 - val_mean_absolute_error: 14.4721\n",
            "Epoch 21/100\n",
            "1245/1245 [==============================] - 4s 3ms/step - loss: 389.6432 - mean_absolute_error: 15.4842 - val_loss: 344.3085 - val_mean_absolute_error: 14.1969\n",
            "Epoch 22/100\n",
            "1245/1245 [==============================] - 4s 3ms/step - loss: 381.9472 - mean_absolute_error: 15.3020 - val_loss: 342.3526 - val_mean_absolute_error: 14.0710\n",
            "Epoch 23/100\n",
            "1245/1245 [==============================] - 5s 4ms/step - loss: 374.1899 - mean_absolute_error: 15.0874 - val_loss: 342.8895 - val_mean_absolute_error: 13.9985\n",
            "Epoch 24/100\n",
            "1245/1245 [==============================] - 5s 4ms/step - loss: 367.2182 - mean_absolute_error: 14.9097 - val_loss: 348.7426 - val_mean_absolute_error: 14.9412\n",
            "Epoch 25/100\n",
            "1245/1245 [==============================] - 4s 3ms/step - loss: 363.6341 - mean_absolute_error: 14.8258 - val_loss: 340.5072 - val_mean_absolute_error: 14.3592\n",
            "Epoch 26/100\n",
            "1245/1245 [==============================] - 5s 4ms/step - loss: 360.1185 - mean_absolute_error: 14.7195 - val_loss: 337.7163 - val_mean_absolute_error: 14.0996\n",
            "Epoch 27/100\n",
            "1245/1245 [==============================] - 4s 3ms/step - loss: 356.1628 - mean_absolute_error: 14.6318 - val_loss: 336.5145 - val_mean_absolute_error: 14.0391\n",
            "Epoch 28/100\n",
            "1245/1245 [==============================] - 4s 3ms/step - loss: 355.1161 - mean_absolute_error: 14.5830 - val_loss: 334.4011 - val_mean_absolute_error: 14.0139\n",
            "Epoch 29/100\n",
            "1245/1245 [==============================] - 4s 3ms/step - loss: 351.9801 - mean_absolute_error: 14.5062 - val_loss: 334.5703 - val_mean_absolute_error: 13.8506\n",
            "Epoch 30/100\n",
            "1245/1245 [==============================] - 5s 4ms/step - loss: 346.9940 - mean_absolute_error: 14.3745 - val_loss: 332.9629 - val_mean_absolute_error: 14.0174\n",
            "Epoch 31/100\n",
            "1245/1245 [==============================] - 4s 3ms/step - loss: 346.8879 - mean_absolute_error: 14.3648 - val_loss: 332.4789 - val_mean_absolute_error: 13.8560\n",
            "Epoch 32/100\n",
            "1245/1245 [==============================] - 4s 3ms/step - loss: 344.2697 - mean_absolute_error: 14.2771 - val_loss: 333.2275 - val_mean_absolute_error: 14.3651\n",
            "Epoch 33/100\n",
            "1245/1245 [==============================] - 5s 4ms/step - loss: 342.5328 - mean_absolute_error: 14.2547 - val_loss: 340.3347 - val_mean_absolute_error: 14.8095\n",
            "Epoch 34/100\n",
            "1245/1245 [==============================] - 5s 4ms/step - loss: 342.9246 - mean_absolute_error: 14.2438 - val_loss: 329.5495 - val_mean_absolute_error: 13.7380\n",
            "Epoch 35/100\n",
            "1245/1245 [==============================] - 5s 4ms/step - loss: 340.6815 - mean_absolute_error: 14.1913 - val_loss: 328.3315 - val_mean_absolute_error: 13.8611\n",
            "Epoch 36/100\n",
            "1245/1245 [==============================] - 4s 3ms/step - loss: 340.6906 - mean_absolute_error: 14.1915 - val_loss: 327.6075 - val_mean_absolute_error: 13.7298\n",
            "Epoch 37/100\n",
            "1245/1245 [==============================] - 4s 3ms/step - loss: 338.4691 - mean_absolute_error: 14.1164 - val_loss: 326.4284 - val_mean_absolute_error: 13.7898\n",
            "Epoch 38/100\n",
            "1245/1245 [==============================] - 5s 4ms/step - loss: 337.6731 - mean_absolute_error: 14.0873 - val_loss: 324.5063 - val_mean_absolute_error: 13.6945\n",
            "Epoch 39/100\n",
            "1245/1245 [==============================] - 4s 3ms/step - loss: 334.9894 - mean_absolute_error: 14.0389 - val_loss: 323.1553 - val_mean_absolute_error: 13.6986\n",
            "Epoch 40/100\n",
            "1245/1245 [==============================] - 4s 3ms/step - loss: 333.7706 - mean_absolute_error: 14.0007 - val_loss: 323.6324 - val_mean_absolute_error: 13.9384\n",
            "Epoch 41/100\n",
            "1245/1245 [==============================] - 6s 4ms/step - loss: 330.2198 - mean_absolute_error: 13.8999 - val_loss: 323.1201 - val_mean_absolute_error: 13.9694\n",
            "Epoch 42/100\n",
            "1245/1245 [==============================] - 4s 3ms/step - loss: 331.7262 - mean_absolute_error: 13.9319 - val_loss: 322.1535 - val_mean_absolute_error: 13.6272\n",
            "Epoch 43/100\n",
            "1245/1245 [==============================] - 4s 3ms/step - loss: 329.8185 - mean_absolute_error: 13.8652 - val_loss: 321.4581 - val_mean_absolute_error: 13.6904\n",
            "Epoch 44/100\n",
            "1245/1245 [==============================] - 5s 4ms/step - loss: 328.5508 - mean_absolute_error: 13.8365 - val_loss: 324.5855 - val_mean_absolute_error: 14.2324\n",
            "Epoch 45/100\n",
            "1245/1245 [==============================] - 4s 3ms/step - loss: 327.0841 - mean_absolute_error: 13.8132 - val_loss: 317.9384 - val_mean_absolute_error: 13.3631\n",
            "Epoch 46/100\n",
            "1245/1245 [==============================] - 4s 3ms/step - loss: 324.7764 - mean_absolute_error: 13.7241 - val_loss: 316.6432 - val_mean_absolute_error: 13.4167\n",
            "Epoch 47/100\n",
            "1245/1245 [==============================] - 4s 3ms/step - loss: 324.9354 - mean_absolute_error: 13.7264 - val_loss: 318.4343 - val_mean_absolute_error: 13.7584\n",
            "Epoch 48/100\n",
            "1245/1245 [==============================] - 4s 4ms/step - loss: 323.5854 - mean_absolute_error: 13.6934 - val_loss: 320.7361 - val_mean_absolute_error: 14.0058\n",
            "Epoch 49/100\n",
            "1245/1245 [==============================] - 4s 3ms/step - loss: 322.5454 - mean_absolute_error: 13.6821 - val_loss: 316.7194 - val_mean_absolute_error: 13.5197\n",
            "Epoch 50/100\n",
            "1245/1245 [==============================] - 5s 4ms/step - loss: 323.0475 - mean_absolute_error: 13.6828 - val_loss: 316.5229 - val_mean_absolute_error: 13.3595\n",
            "Epoch 51/100\n",
            "1245/1245 [==============================] - 4s 3ms/step - loss: 320.8061 - mean_absolute_error: 13.6142 - val_loss: 319.2301 - val_mean_absolute_error: 13.8987\n",
            "Epoch 52/100\n",
            "1245/1245 [==============================] - 4s 3ms/step - loss: 319.3494 - mean_absolute_error: 13.5933 - val_loss: 315.5834 - val_mean_absolute_error: 13.6126\n",
            "Epoch 53/100\n",
            "1245/1245 [==============================] - 5s 4ms/step - loss: 318.7025 - mean_absolute_error: 13.5518 - val_loss: 313.5089 - val_mean_absolute_error: 13.2950\n",
            "Epoch 54/100\n",
            "1245/1245 [==============================] - 5s 4ms/step - loss: 316.4742 - mean_absolute_error: 13.5080 - val_loss: 315.0909 - val_mean_absolute_error: 13.2479\n",
            "Epoch 55/100\n",
            "1245/1245 [==============================] - 4s 3ms/step - loss: 316.9720 - mean_absolute_error: 13.5066 - val_loss: 315.5722 - val_mean_absolute_error: 13.5255\n",
            "Epoch 56/100\n",
            "1245/1245 [==============================] - 4s 4ms/step - loss: 317.0067 - mean_absolute_error: 13.5352 - val_loss: 316.0455 - val_mean_absolute_error: 13.5381\n",
            "Epoch 57/100\n",
            "1245/1245 [==============================] - 4s 3ms/step - loss: 316.6157 - mean_absolute_error: 13.4862 - val_loss: 315.1590 - val_mean_absolute_error: 13.4783\n",
            "Epoch 58/100\n",
            "1245/1245 [==============================] - 4s 3ms/step - loss: 316.2771 - mean_absolute_error: 13.4723 - val_loss: 313.1807 - val_mean_absolute_error: 13.3143\n",
            "Epoch 59/100\n",
            "1245/1245 [==============================] - 4s 3ms/step - loss: 313.0215 - mean_absolute_error: 13.4168 - val_loss: 314.4756 - val_mean_absolute_error: 13.5882\n",
            "Epoch 60/100\n",
            "1245/1245 [==============================] - 5s 4ms/step - loss: 315.2681 - mean_absolute_error: 13.4389 - val_loss: 313.6422 - val_mean_absolute_error: 13.5231\n",
            "Epoch 61/100\n",
            "1245/1245 [==============================] - 4s 3ms/step - loss: 314.7807 - mean_absolute_error: 13.4441 - val_loss: 314.1333 - val_mean_absolute_error: 13.4436\n",
            "Epoch 62/100\n",
            "1245/1245 [==============================] - 4s 3ms/step - loss: 313.1131 - mean_absolute_error: 13.3961 - val_loss: 314.2249 - val_mean_absolute_error: 13.7848\n",
            "Epoch 63/100\n",
            "1245/1245 [==============================] - 5s 4ms/step - loss: 312.3443 - mean_absolute_error: 13.3726 - val_loss: 311.6044 - val_mean_absolute_error: 13.2705\n",
            "Epoch 64/100\n",
            "1245/1245 [==============================] - 4s 3ms/step - loss: 311.4904 - mean_absolute_error: 13.3766 - val_loss: 311.2499 - val_mean_absolute_error: 13.2067\n",
            "Epoch 65/100\n",
            "1245/1245 [==============================] - 4s 3ms/step - loss: 311.3577 - mean_absolute_error: 13.3576 - val_loss: 313.3551 - val_mean_absolute_error: 13.6697\n",
            "Epoch 66/100\n",
            "1245/1245 [==============================] - 9s 7ms/step - loss: 311.5916 - mean_absolute_error: 13.3471 - val_loss: 314.8810 - val_mean_absolute_error: 13.3158\n",
            "Epoch 67/100\n",
            "1245/1245 [==============================] - 5s 4ms/step - loss: 313.3149 - mean_absolute_error: 13.3740 - val_loss: 315.8162 - val_mean_absolute_error: 13.9010\n",
            "Epoch 68/100\n",
            "1245/1245 [==============================] - 6s 5ms/step - loss: 311.3885 - mean_absolute_error: 13.3513 - val_loss: 310.9088 - val_mean_absolute_error: 13.2730\n",
            "Epoch 69/100\n",
            "1245/1245 [==============================] - 14s 11ms/step - loss: 309.9737 - mean_absolute_error: 13.3160 - val_loss: 313.6478 - val_mean_absolute_error: 13.6853\n",
            "Epoch 70/100\n",
            "1245/1245 [==============================] - 6s 5ms/step - loss: 308.7185 - mean_absolute_error: 13.2859 - val_loss: 312.9779 - val_mean_absolute_error: 13.7309\n",
            "Epoch 71/100\n",
            "1245/1245 [==============================] - 4s 3ms/step - loss: 310.2835 - mean_absolute_error: 13.2993 - val_loss: 308.7566 - val_mean_absolute_error: 13.1636\n",
            "Epoch 72/100\n",
            "1245/1245 [==============================] - 5s 4ms/step - loss: 308.8352 - mean_absolute_error: 13.2746 - val_loss: 312.0702 - val_mean_absolute_error: 13.5624\n",
            "Epoch 73/100\n",
            "1245/1245 [==============================] - 4s 3ms/step - loss: 308.9130 - mean_absolute_error: 13.3013 - val_loss: 310.7791 - val_mean_absolute_error: 13.5373\n",
            "Epoch 74/100\n",
            "1245/1245 [==============================] - 4s 3ms/step - loss: 308.0149 - mean_absolute_error: 13.2492 - val_loss: 312.5214 - val_mean_absolute_error: 13.7488\n",
            "Epoch 75/100\n",
            "1245/1245 [==============================] - 5s 4ms/step - loss: 307.7932 - mean_absolute_error: 13.2527 - val_loss: 309.8794 - val_mean_absolute_error: 13.4436\n",
            "Epoch 76/100\n",
            "1245/1245 [==============================] - 4s 3ms/step - loss: 307.5845 - mean_absolute_error: 13.2426 - val_loss: 310.1342 - val_mean_absolute_error: 13.5673\n",
            "Epoch 77/100\n",
            "1245/1245 [==============================] - 4s 3ms/step - loss: 308.2314 - mean_absolute_error: 13.2534 - val_loss: 308.3707 - val_mean_absolute_error: 13.3816\n",
            "Epoch 78/100\n",
            "1245/1245 [==============================] - 6s 5ms/step - loss: 306.5557 - mean_absolute_error: 13.2109 - val_loss: 312.2977 - val_mean_absolute_error: 13.6062\n",
            "Epoch 79/100\n",
            "1245/1245 [==============================] - 4s 3ms/step - loss: 305.5664 - mean_absolute_error: 13.2071 - val_loss: 306.6102 - val_mean_absolute_error: 13.2577\n",
            "Epoch 80/100\n",
            "1245/1245 [==============================] - 6s 5ms/step - loss: 307.7741 - mean_absolute_error: 13.2465 - val_loss: 309.1548 - val_mean_absolute_error: 13.4272\n",
            "Epoch 81/100\n",
            "1245/1245 [==============================] - 7s 6ms/step - loss: 305.3072 - mean_absolute_error: 13.1946 - val_loss: 310.6886 - val_mean_absolute_error: 13.5766\n",
            "Epoch 82/100\n",
            "1245/1245 [==============================] - 5s 4ms/step - loss: 304.9188 - mean_absolute_error: 13.1728 - val_loss: 309.0982 - val_mean_absolute_error: 13.3250\n",
            "Epoch 83/100\n",
            "1245/1245 [==============================] - 9s 7ms/step - loss: 303.1519 - mean_absolute_error: 13.1329 - val_loss: 310.4881 - val_mean_absolute_error: 13.6121\n",
            "Epoch 84/100\n",
            "1245/1245 [==============================] - 11s 9ms/step - loss: 305.1585 - mean_absolute_error: 13.1812 - val_loss: 307.9294 - val_mean_absolute_error: 13.0484\n",
            "Epoch 85/100\n",
            "1245/1245 [==============================] - 9s 7ms/step - loss: 304.7638 - mean_absolute_error: 13.1549 - val_loss: 308.0647 - val_mean_absolute_error: 13.2895\n",
            "Epoch 86/100\n",
            "1245/1245 [==============================] - 10s 8ms/step - loss: 303.9308 - mean_absolute_error: 13.1571 - val_loss: 309.8930 - val_mean_absolute_error: 13.5167\n",
            "Epoch 87/100\n",
            "1245/1245 [==============================] - 10s 8ms/step - loss: 303.1260 - mean_absolute_error: 13.1275 - val_loss: 311.9171 - val_mean_absolute_error: 13.6068\n",
            "Epoch 88/100\n",
            "1245/1245 [==============================] - 14s 11ms/step - loss: 302.6637 - mean_absolute_error: 13.1025 - val_loss: 308.4749 - val_mean_absolute_error: 13.1750\n",
            "Epoch 89/100\n",
            "1245/1245 [==============================] - 9s 7ms/step - loss: 302.8813 - mean_absolute_error: 13.0983 - val_loss: 310.7598 - val_mean_absolute_error: 13.7488\n",
            "389/389 [==============================] - 2s 4ms/step\n",
            "389/389 [==============================] - 2s 5ms/step\n",
            "Mean Squared Error: 319.0020672811055\n",
            "Mean Absolute Error: 13.560022468775347\n",
            "R^2 Score: 0.3502067370513331\n"
          ]
        },
        {
          "output_type": "display_data",
          "data": {
            "text/plain": [
              "<Figure size 640x480 with 1 Axes>"
            ],
            "image/png": "[encoded data removed]"
          },
          "metadata": {}
        }
      ]
    },
    {
      "cell_type": "code",
      "source": [
        "# Guardar modelo\n",
        "keras.saving.save_model(model, 'Modelo_Cap1', overwrite=True)"
      ],
      "metadata": {
        "id": "RaeOw8J950wG"
      },
      "execution_count": 17,
      "outputs": []
    },
    {
      "cell_type": "markdown",
      "source": [
        "## Predicciones"
      ],
      "metadata": {
        "id": "6h-FEZaSiWY-"
      }
    },
    {
      "cell_type": "code",
      "source": [
        "# Registros del 2024 a predecir\n",
        "fli_pred = pd.read_csv('fli_pred2024.csv')"
      ],
      "metadata": {
        "id": "2vHo30TnqnpQ"
      },
      "execution_count": 12,
      "outputs": []
    },
    {
      "cell_type": "code",
      "source": [
        "# Variables numéricas y categóricas\n",
        "numeric_features = fli_pred.select_dtypes(include=['float64', 'int64']).columns\n",
        "categorical_features = fli_pred.select_dtypes(include=['object']).columns\n",
        "\n",
        "# Numéricas - escalar\n",
        "numeric_preprocessor = StandardScaler()\n",
        "X_numeric = numeric_preprocessor.fit_transform(fli_pred[numeric_features])\n",
        "\n",
        "# Categóricas - Codificación\n",
        "categorical_preprocessor = OneHotEncoder()\n",
        "X_categorical = categorical_preprocessor.fit_transform(fli_pred[categorical_features])\n",
        "\n",
        "# Concatenar numéricas y categóricas\n",
        "X_preprocessed = np.hstack((X_numeric, X_categorical.toarray()))\n",
        "\n",
        "# Cargar el modelo final para predicciones\n",
        "loaded_model = keras.saving.load_model('Modelo_Cap1')\n",
        "\n",
        "# Predicción\n",
        "y_pred_2024 = loaded_model.predict(X_preprocessed)"
      ],
      "metadata": {
        "colab": {
          "base_uri": "https://localhost:8080/"
        },
        "id": "J6F0av8hilVl",
        "outputId": "0700f125-6afb-45a2-e867-d374dc51cca3"
      },
      "execution_count": 13,
      "outputs": [
        {
          "output_type": "stream",
          "name": "stdout",
          "text": [
            "3807/3807 [==============================] - 11s 3ms/step\n"
          ]
        }
      ]
    },
    {
      "cell_type": "code",
      "source": [
        "# Formato de predicción\n",
        "y_pred_2024 = np.round(y_pred_2024)\n",
        "fli_pred['Passengers'] = pd.Series([x[0] for x in y_pred_2024])\n",
        "# Predicción de sobrecarga\n",
        "fli_pred.loc[fli_pred['Passengers'] > fli_pred['Capacity'], 'Passengers'] = fli_pred['Capacity']\n",
        "# Solo con la capacidad correspondida al modelo\n",
        "fli_pred = fli_pred[fli_pred['Capacity'] <= 186]"
      ],
      "metadata": {
        "id": "54LTT7z8p1sP"
      },
      "execution_count": 163,
      "outputs": []
    },
    {
      "cell_type": "code",
      "source": [
        "# Tabla 2024\n",
        "fli_pred.to_csv('Pred_2024_Cap1.csv', index = False)"
      ],
      "metadata": {
        "id": "urKz5Vhj6a22"
      },
      "execution_count": 164,
      "outputs": []
    },
    {
      "cell_type": "markdown",
      "source": [
        "# Modelo Capacidad 2"
      ],
      "metadata": {
        "id": "H2-w-B7QtpKc"
      }
    },
    {
      "cell_type": "code",
      "source": [
        "# Dataset para entrenar de capacidad 2\n",
        "fli_cap2 = pd.read_csv('/content/Flights_Cap2.csv')"
      ],
      "metadata": {
        "id": "jIniyUMgFoMk"
      },
      "execution_count": 143,
      "outputs": []
    },
    {
      "cell_type": "code",
      "source": [
        "# Variables independientes y dependiente\n",
        "X = fli_cap2.drop(columns=['Passengers'])\n",
        "y = fli_cap2['Passengers']\n",
        "\n",
        "# Training and test sets\n",
        "X_train, X_test, y_train, y_test = train_test_split(X, y, test_size=0.2, random_state=42)\n",
        "\n",
        "# Numéricas\n",
        "numeric_features = X_train.select_dtypes(include=['float64', 'int64']).columns\n",
        "numeric_preprocessor = StandardScaler()\n",
        "X_train_numeric = numeric_preprocessor.fit_transform(X_train[numeric_features])\n",
        "X_test_numeric = numeric_preprocessor.transform(X_test[numeric_features])\n",
        "\n",
        "# Categóricas\n",
        "categorical_features = X_train.select_dtypes(include=['object']).columns\n",
        "categorical_preprocessor = OneHotEncoder()\n",
        "X_train_categorical = categorical_preprocessor.fit_transform(X_train[categorical_features])\n",
        "X_test_categorical = categorical_preprocessor.transform(X_test[categorical_features])\n",
        "\n",
        "# Concatenar numéricas y categóricas\n",
        "X_train_preprocessed = np.hstack((X_train_numeric, X_train_categorical.toarray()))\n",
        "X_test_preprocessed = np.hstack((X_test_numeric, X_test_categorical.toarray()))"
      ],
      "metadata": {
        "id": "km2ihJBvFp8T"
      },
      "execution_count": 144,
      "outputs": []
    },
    {
      "cell_type": "markdown",
      "source": [
        "## Modelo 1"
      ],
      "metadata": {
        "id": "JRd-IFbkVhrY"
      }
    },
    {
      "cell_type": "markdown",
      "source": [
        "Se creó el primer modelo igual que con la capacidad 1. Esto resultó mucho mejor que con la capacidad anterior, obteniendo un ajuste del 35% y valores similares con el Modelo Final de capacidad 1. Por lo que se decidió continuar con este modelo."
      ],
      "metadata": {
        "id": "uLAabzraVnk9"
      }
    },
    {
      "cell_type": "code",
      "source": [
        "# Construir el modelo\n",
        "model = tf.keras.Sequential([\n",
        "    layers.Dense(128, activation='relu', input_shape=(X_train_preprocessed.shape[1],)),\n",
        "    layers.Dropout(0.2),\n",
        "    layers.Dense(64, activation='relu'),\n",
        "    layers.Dropout(0.2),\n",
        "    layers.Dense(32, activation='relu'),\n",
        "    layers.Dense(1)  # Capa de salida para la predicción\n",
        "])\n",
        "\n",
        "# Compilar el modelo\n",
        "model.compile(optimizer='adam', loss='mean_squared_error')\n",
        "\n",
        "# Definir callbacks\n",
        "early_stopping = callbacks.EarlyStopping(monitor='val_loss', patience=10, restore_best_weights=True)\n",
        "\n",
        "# Entrenar el modelo\n",
        "history = model.fit(X_train_preprocessed, y_train, epochs=100, batch_size=32, validation_split=0.2, callbacks=[early_stopping])\n",
        "\n",
        "y_pred = model.predict(X_test_preprocessed)\n",
        "\n",
        "evaluate(model, X_test_preprocessed, y_test, y_pred, history)"
      ],
      "metadata": {
        "colab": {
          "base_uri": "https://localhost:8080/",
          "height": 1000
        },
        "id": "rOI-1a7vFw39",
        "outputId": "98a01411-645e-42d8-a641-23dd978e4f17"
      },
      "execution_count": 145,
      "outputs": [
        {
          "output_type": "stream",
          "name": "stdout",
          "text": [
            "Epoch 1/100\n",
            "1245/1245 [==============================] - 7s 4ms/step - loss: 2100.0005 - val_loss: 415.6715\n",
            "Epoch 2/100\n",
            "1245/1245 [==============================] - 3s 3ms/step - loss: 612.0342 - val_loss: 399.4113\n",
            "Epoch 3/100\n",
            "1245/1245 [==============================] - 5s 4ms/step - loss: 599.8564 - val_loss: 408.2271\n",
            "Epoch 4/100\n",
            "1245/1245 [==============================] - 3s 2ms/step - loss: 578.9922 - val_loss: 384.1934\n",
            "Epoch 5/100\n",
            "1245/1245 [==============================] - 4s 3ms/step - loss: 569.7459 - val_loss: 383.0527\n",
            "Epoch 6/100\n",
            "1245/1245 [==============================] - 4s 3ms/step - loss: 551.1155 - val_loss: 385.2843\n",
            "Epoch 7/100\n",
            "1245/1245 [==============================] - 6s 5ms/step - loss: 539.4279 - val_loss: 382.3769\n",
            "Epoch 8/100\n",
            "1245/1245 [==============================] - 6s 4ms/step - loss: 529.9663 - val_loss: 376.2371\n",
            "Epoch 9/100\n",
            "1245/1245 [==============================] - 5s 4ms/step - loss: 521.8073 - val_loss: 407.0257\n",
            "Epoch 10/100\n",
            "1245/1245 [==============================] - 4s 3ms/step - loss: 507.2299 - val_loss: 375.7379\n",
            "Epoch 11/100\n",
            "1245/1245 [==============================] - 9s 7ms/step - loss: 503.9380 - val_loss: 368.5971\n",
            "Epoch 12/100\n",
            "1245/1245 [==============================] - 6s 5ms/step - loss: 487.2143 - val_loss: 379.2859\n",
            "Epoch 13/100\n",
            "1245/1245 [==============================] - 6s 5ms/step - loss: 482.7844 - val_loss: 364.5242\n",
            "Epoch 14/100\n",
            "1245/1245 [==============================] - 3s 2ms/step - loss: 465.7469 - val_loss: 374.8367\n",
            "Epoch 15/100\n",
            "1245/1245 [==============================] - 3s 2ms/step - loss: 461.1352 - val_loss: 364.1783\n",
            "Epoch 16/100\n",
            "1245/1245 [==============================] - 3s 3ms/step - loss: 455.3469 - val_loss: 368.1185\n",
            "Epoch 17/100\n",
            "1245/1245 [==============================] - 4s 3ms/step - loss: 445.2472 - val_loss: 365.5931\n",
            "Epoch 18/100\n",
            "1245/1245 [==============================] - 3s 3ms/step - loss: 440.9114 - val_loss: 361.6245\n",
            "Epoch 19/100\n",
            "1245/1245 [==============================] - 3s 2ms/step - loss: 436.1496 - val_loss: 354.0709\n",
            "Epoch 20/100\n",
            "1245/1245 [==============================] - 3s 2ms/step - loss: 424.2677 - val_loss: 351.3383\n",
            "Epoch 21/100\n",
            "1245/1245 [==============================] - 5s 4ms/step - loss: 412.1954 - val_loss: 349.4134\n",
            "Epoch 22/100\n",
            "1245/1245 [==============================] - 3s 2ms/step - loss: 400.8340 - val_loss: 350.3360\n",
            "Epoch 23/100\n",
            "1245/1245 [==============================] - 3s 2ms/step - loss: 397.2730 - val_loss: 344.8897\n",
            "Epoch 24/100\n",
            "1245/1245 [==============================] - 3s 3ms/step - loss: 386.2721 - val_loss: 340.8515\n",
            "Epoch 25/100\n",
            "1245/1245 [==============================] - 4s 3ms/step - loss: 376.5230 - val_loss: 337.4032\n",
            "Epoch 26/100\n",
            "1245/1245 [==============================] - 3s 2ms/step - loss: 373.0446 - val_loss: 334.3765\n",
            "Epoch 27/100\n",
            "1245/1245 [==============================] - 3s 3ms/step - loss: 363.6157 - val_loss: 335.1696\n",
            "Epoch 28/100\n",
            "1245/1245 [==============================] - 3s 3ms/step - loss: 362.6822 - val_loss: 334.7677\n",
            "Epoch 29/100\n",
            "1245/1245 [==============================] - 4s 3ms/step - loss: 355.5822 - val_loss: 338.3658\n",
            "Epoch 30/100\n",
            "1245/1245 [==============================] - 3s 3ms/step - loss: 353.1497 - val_loss: 333.0654\n",
            "Epoch 31/100\n",
            "1245/1245 [==============================] - 3s 3ms/step - loss: 348.4628 - val_loss: 331.6137\n",
            "Epoch 32/100\n",
            "1245/1245 [==============================] - 3s 3ms/step - loss: 346.1082 - val_loss: 332.1823\n",
            "Epoch 33/100\n",
            "1245/1245 [==============================] - 4s 3ms/step - loss: 344.0514 - val_loss: 330.8000\n",
            "Epoch 34/100\n",
            "1245/1245 [==============================] - 3s 2ms/step - loss: 344.3716 - val_loss: 327.9876\n",
            "Epoch 35/100\n",
            "1245/1245 [==============================] - 6s 5ms/step - loss: 341.6917 - val_loss: 327.2818\n",
            "Epoch 36/100\n",
            "1245/1245 [==============================] - 6s 5ms/step - loss: 340.1414 - val_loss: 331.5758\n",
            "Epoch 37/100\n",
            "1245/1245 [==============================] - 4s 3ms/step - loss: 339.4960 - val_loss: 327.9324\n",
            "Epoch 38/100\n",
            "1245/1245 [==============================] - 3s 2ms/step - loss: 338.6351 - val_loss: 336.3136\n",
            "Epoch 39/100\n",
            "1245/1245 [==============================] - 4s 3ms/step - loss: 336.3962 - val_loss: 328.1942\n",
            "Epoch 40/100\n",
            "1245/1245 [==============================] - 3s 2ms/step - loss: 336.1434 - val_loss: 327.4506\n",
            "Epoch 41/100\n",
            "1245/1245 [==============================] - 3s 2ms/step - loss: 334.7064 - val_loss: 336.3119\n",
            "Epoch 42/100\n",
            "1245/1245 [==============================] - 3s 3ms/step - loss: 335.9469 - val_loss: 323.3710\n",
            "Epoch 43/100\n",
            "1245/1245 [==============================] - 4s 3ms/step - loss: 333.1290 - val_loss: 331.2108\n",
            "Epoch 44/100\n",
            "1245/1245 [==============================] - 4s 3ms/step - loss: 330.4153 - val_loss: 321.9652\n",
            "Epoch 45/100\n",
            "1245/1245 [==============================] - 3s 2ms/step - loss: 332.0401 - val_loss: 321.5553\n",
            "Epoch 46/100\n",
            "1245/1245 [==============================] - 3s 2ms/step - loss: 329.8766 - val_loss: 322.0472\n",
            "Epoch 47/100\n",
            "1245/1245 [==============================] - 4s 3ms/step - loss: 328.0316 - val_loss: 324.0868\n",
            "Epoch 48/100\n",
            "1245/1245 [==============================] - 3s 3ms/step - loss: 326.7900 - val_loss: 322.4242\n",
            "Epoch 49/100\n",
            "1245/1245 [==============================] - 3s 2ms/step - loss: 325.6741 - val_loss: 319.5957\n",
            "Epoch 50/100\n",
            "1245/1245 [==============================] - 3s 2ms/step - loss: 324.6698 - val_loss: 321.3100\n",
            "Epoch 51/100\n",
            "1245/1245 [==============================] - 4s 3ms/step - loss: 322.3915 - val_loss: 316.6717\n",
            "Epoch 52/100\n",
            "1245/1245 [==============================] - 3s 3ms/step - loss: 322.8863 - val_loss: 314.9898\n",
            "Epoch 53/100\n",
            "1245/1245 [==============================] - 3s 2ms/step - loss: 321.4764 - val_loss: 315.2848\n",
            "Epoch 54/100\n",
            "1245/1245 [==============================] - 3s 3ms/step - loss: 320.5596 - val_loss: 315.7451\n",
            "Epoch 55/100\n",
            "1245/1245 [==============================] - 4s 3ms/step - loss: 318.2228 - val_loss: 313.2773\n",
            "Epoch 56/100\n",
            "1245/1245 [==============================] - 4s 3ms/step - loss: 317.5840 - val_loss: 313.4036\n",
            "Epoch 57/100\n",
            "1245/1245 [==============================] - 3s 2ms/step - loss: 318.5430 - val_loss: 313.1541\n",
            "Epoch 58/100\n",
            "1245/1245 [==============================] - 3s 3ms/step - loss: 315.9160 - val_loss: 312.2240\n",
            "Epoch 59/100\n",
            "1245/1245 [==============================] - 3s 3ms/step - loss: 315.7455 - val_loss: 314.4426\n",
            "Epoch 60/100\n",
            "1245/1245 [==============================] - 4s 3ms/step - loss: 313.2036 - val_loss: 312.7239\n",
            "Epoch 61/100\n",
            "1245/1245 [==============================] - 3s 2ms/step - loss: 314.0089 - val_loss: 312.4325\n",
            "Epoch 62/100\n",
            "1245/1245 [==============================] - 3s 2ms/step - loss: 314.0296 - val_loss: 310.3525\n",
            "Epoch 63/100\n",
            "1245/1245 [==============================] - 3s 3ms/step - loss: 311.4804 - val_loss: 312.9205\n",
            "Epoch 64/100\n",
            "1245/1245 [==============================] - 4s 3ms/step - loss: 312.5736 - val_loss: 313.8617\n",
            "Epoch 65/100\n",
            "1245/1245 [==============================] - 3s 2ms/step - loss: 310.0862 - val_loss: 310.4597\n",
            "Epoch 66/100\n",
            "1245/1245 [==============================] - 3s 2ms/step - loss: 308.9333 - val_loss: 312.6122\n",
            "Epoch 67/100\n",
            "1245/1245 [==============================] - 4s 3ms/step - loss: 310.5345 - val_loss: 310.6922\n",
            "Epoch 68/100\n",
            "1245/1245 [==============================] - 4s 3ms/step - loss: 309.5818 - val_loss: 310.1553\n",
            "Epoch 69/100\n",
            "1245/1245 [==============================] - 3s 3ms/step - loss: 309.0154 - val_loss: 311.1864\n",
            "Epoch 70/100\n",
            "1245/1245 [==============================] - 3s 2ms/step - loss: 308.0488 - val_loss: 313.7778\n",
            "Epoch 71/100\n",
            "1245/1245 [==============================] - 3s 3ms/step - loss: 308.3987 - val_loss: 309.2008\n",
            "Epoch 72/100\n",
            "1245/1245 [==============================] - 4s 3ms/step - loss: 307.4189 - val_loss: 315.4599\n",
            "Epoch 73/100\n",
            "1245/1245 [==============================] - 3s 3ms/step - loss: 306.6619 - val_loss: 309.9997\n",
            "Epoch 74/100\n",
            "1245/1245 [==============================] - 3s 3ms/step - loss: 305.3717 - val_loss: 307.2367\n",
            "Epoch 75/100\n",
            "1245/1245 [==============================] - 4s 3ms/step - loss: 305.7014 - val_loss: 320.0142\n",
            "Epoch 76/100\n",
            "1245/1245 [==============================] - 3s 3ms/step - loss: 305.3134 - val_loss: 308.9572\n",
            "Epoch 77/100\n",
            "1245/1245 [==============================] - 3s 3ms/step - loss: 305.0781 - val_loss: 308.4058\n",
            "Epoch 78/100\n",
            "1245/1245 [==============================] - 3s 3ms/step - loss: 301.8255 - val_loss: 306.9783\n",
            "Epoch 79/100\n",
            "1245/1245 [==============================] - 4s 3ms/step - loss: 302.7207 - val_loss: 308.5941\n",
            "Epoch 80/100\n",
            "1245/1245 [==============================] - 3s 3ms/step - loss: 303.4353 - val_loss: 310.9168\n",
            "Epoch 81/100\n",
            "1245/1245 [==============================] - 3s 3ms/step - loss: 302.5748 - val_loss: 308.8058\n",
            "Epoch 82/100\n",
            "1245/1245 [==============================] - 3s 3ms/step - loss: 301.3662 - val_loss: 307.4021\n",
            "Epoch 83/100\n",
            "1245/1245 [==============================] - 4s 3ms/step - loss: 301.4458 - val_loss: 307.5619\n",
            "Epoch 84/100\n",
            "1245/1245 [==============================] - 3s 3ms/step - loss: 303.4211 - val_loss: 305.4922\n",
            "Epoch 85/100\n",
            "1245/1245 [==============================] - 3s 3ms/step - loss: 302.0510 - val_loss: 307.2073\n",
            "Epoch 86/100\n",
            "1245/1245 [==============================] - 3s 3ms/step - loss: 301.3347 - val_loss: 306.9574\n",
            "Epoch 87/100\n",
            "1245/1245 [==============================] - 4s 3ms/step - loss: 299.9635 - val_loss: 306.0689\n",
            "Epoch 88/100\n",
            "1245/1245 [==============================] - 3s 2ms/step - loss: 300.8937 - val_loss: 308.3621\n",
            "Epoch 89/100\n",
            "1245/1245 [==============================] - 3s 3ms/step - loss: 299.4850 - val_loss: 305.1809\n",
            "Epoch 90/100\n",
            "1245/1245 [==============================] - 3s 2ms/step - loss: 300.5442 - val_loss: 307.5995\n",
            "Epoch 91/100\n",
            "1245/1245 [==============================] - 4s 3ms/step - loss: 299.0249 - val_loss: 305.8590\n",
            "Epoch 92/100\n",
            "1245/1245 [==============================] - 4s 3ms/step - loss: 299.3915 - val_loss: 310.5500\n",
            "Epoch 93/100\n",
            "1245/1245 [==============================] - 3s 3ms/step - loss: 298.4591 - val_loss: 310.5507\n",
            "Epoch 94/100\n",
            "1245/1245 [==============================] - 3s 3ms/step - loss: 297.0839 - val_loss: 305.4154\n",
            "Epoch 95/100\n",
            "1245/1245 [==============================] - 4s 3ms/step - loss: 297.6129 - val_loss: 305.7045\n",
            "Epoch 96/100\n",
            "1245/1245 [==============================] - 3s 2ms/step - loss: 297.4181 - val_loss: 304.6765\n",
            "Epoch 97/100\n",
            "1245/1245 [==============================] - 3s 3ms/step - loss: 295.6664 - val_loss: 306.2540\n",
            "Epoch 98/100\n",
            "1245/1245 [==============================] - 3s 3ms/step - loss: 296.1141 - val_loss: 304.5229\n",
            "Epoch 99/100\n",
            "1245/1245 [==============================] - 5s 4ms/step - loss: 295.7722 - val_loss: 305.4326\n",
            "Epoch 100/100\n",
            "1245/1245 [==============================] - 3s 3ms/step - loss: 295.0360 - val_loss: 303.6581\n",
            "389/389 [==============================] - 1s 2ms/step\n",
            "389/389 [==============================] - 1s 2ms/step\n",
            "Mean Squared Error: 314.2801925444798\n",
            "Mean Absolute Error: 13.41720749718014\n",
            "R^2 Score: 0.3598249894297515\n"
          ]
        },
        {
          "output_type": "display_data",
          "data": {
            "text/plain": [
              "<Figure size 640x480 with 1 Axes>"
            ],
            "image/png": "[encoded data removed]"
          },
          "metadata": {}
        }
      ]
    },
    {
      "cell_type": "code",
      "source": [
        "# gaurdar modelo\n",
        "keras.saving.save_model(model, 'Modelo_Cap2', overwrite=True)"
      ],
      "metadata": {
        "id": "Lqa-kIblF2kx"
      },
      "execution_count": 147,
      "outputs": []
    },
    {
      "cell_type": "markdown",
      "source": [
        "## Predicciones"
      ],
      "metadata": {
        "id": "Qs6tDRSbWago"
      }
    },
    {
      "cell_type": "code",
      "source": [
        "# DB del 2024\n",
        "fli_pred = pd.read_csv('fli_pred2024.csv')"
      ],
      "metadata": {
        "id": "FrQVwf5CF9IY"
      },
      "execution_count": 150,
      "outputs": []
    },
    {
      "cell_type": "code",
      "source": [
        "# Variables numéricas y categóricas\n",
        "numeric_features = fli_pred.select_dtypes(include=['float64', 'int64']).columns\n",
        "categorical_features = fli_pred.select_dtypes(include=['object']).columns\n",
        "\n",
        "# Numéricas\n",
        "numeric_preprocessor = StandardScaler()\n",
        "X_numeric = numeric_preprocessor.fit_transform(fli_pred[numeric_features])\n",
        "\n",
        "# Categóricas\n",
        "categorical_preprocessor = OneHotEncoder()\n",
        "X_categorical = categorical_preprocessor.fit_transform(fli_pred[categorical_features])\n",
        "\n",
        "# Concatenar\n",
        "X_preprocessed = np.hstack((X_numeric, X_categorical.toarray()))\n",
        "\n",
        "# Cargar modelo\n",
        "loaded_model = keras.saving.load_model('Modelo_Cap2')\n",
        "\n",
        "# Predicción\n",
        "y_pred_2024 = loaded_model.predict(X_preprocessed)"
      ],
      "metadata": {
        "colab": {
          "base_uri": "https://localhost:8080/"
        },
        "id": "0v0wHA1fGpmV",
        "outputId": "8cd25eb9-a80c-48da-d790-6c75e89e1dac"
      },
      "execution_count": 151,
      "outputs": [
        {
          "output_type": "stream",
          "name": "stdout",
          "text": [
            "3807/3807 [==============================] - 9s 2ms/step\n"
          ]
        }
      ]
    },
    {
      "cell_type": "code",
      "source": [
        "# Formato predicción\n",
        "y_pred_2024 = np.round(y_pred_2024)\n",
        "fli_pred['Passengers'] = pd.Series([x[0] for x in y_pred_2024])\n",
        "# Sobreventa de predicción\n",
        "fli_pred.loc[fli_pred['Passengers'] > fli_pred['Capacity'], 'Passengers'] = fli_pred['Capacity']\n",
        "# Capacidad correspondiente\n",
        "fli_pred = fli_pred[fli_pred['Capacity'] > 186]"
      ],
      "metadata": {
        "id": "iBxd6GzDIKZ2"
      },
      "execution_count": 153,
      "outputs": []
    },
    {
      "cell_type": "code",
      "source": [
        "# Tabla con predicciones 2024\n",
        "fli_pred.to_csv('Pred_2024_Cap2.csv', index = False)"
      ],
      "metadata": {
        "id": "o8MAC34xI6jI"
      },
      "execution_count": 160,
      "outputs": []
    }
  ]
}